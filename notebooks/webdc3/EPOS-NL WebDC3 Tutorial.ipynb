{
 "cells": [
  {
   "cell_type": "markdown",
   "metadata": {
    "slideshow": {
     "slide_type": "-"
    }
   },
   "source": [
    "# How to download data from the ORFEUS Data Center using WebDC3 #\n",
    "WebDC3 interface can be used to easily download data from the EIDA Federation. It can be found using following link:\n",
    "\n",
    "[http://orfeus-eu.org/webdc3](http://orfeus-eu.org/webdc3)\n",
    "\n",
    "Please keep in mind to connect to the WebDC3 using **HTTP** protocol. Some of the underlying services operate exclusively via HTTP. Modern browsers will block HTTPS to HTTP traffic."
   ]
  },
  {
   "cell_type": "markdown",
   "metadata": {
    "slideshow": {
     "slide_type": "-"
    }
   },
   "source": [
    "![](img/webdc3-01.png)\n",
    "**Fig.1 - WebDC3 landing page**"
   ]
  },
  {
   "cell_type": "markdown",
   "metadata": {},
   "source": [
    "# Explore events tab:\n",
    "\n",
    "Let's go to the \"Explore events\" tab and find all Groningen events stored in the KNMI event catalogue filtered using following griteria:\n",
    "\n",
    "- Magnitude: >= 2.5\n",
    "- Timespan: from 2020-01-01 till 2020-06-01\n",
    "- Area: limited by a bounding box defined using following coordinates:\n",
    "    - 53°N <= latitude <= 53.5°N\n",
    "    - 6°E <= longitude <= 7°E\n",
    "\n",
    "After pressing the \"Search\" button, we can see that one event has been found - Zijldijk earthquake with origin time 2020-05-02 03:13:15, depth 3.0 km and magnitude 2.5.\n",
    "\n",
    "ℹ️ Please note:\n",
    "\n",
    "- There are multiple event catalogues available in the WebDC3 portal provided by:\n",
    "    - [GFZ](http://geofon.gfz-potsdam.de/)\n",
    "    - [EMSC](http://www.emsc-csem.org/)\n",
    "    - [USGS](http://earthquake.usgs.gov/)\n",
    "    - [INGV](http://www.ingv.it/)\n",
    "    - [ETH](http://seismo.ethz.ch/en/home/)\n",
    "- User can provide own list of events by selecting \"User Supplied\" button"
   ]
  },
  {
   "cell_type": "markdown",
   "metadata": {},
   "source": [
    "![](img/webdc3-02.png)\n",
    "**Fig.2 - Event search**"
   ]
  },
  {
   "cell_type": "markdown",
   "metadata": {},
   "source": [
    "# Explore stations tab\n",
    "\n",
    "For given event, let's find all NL stations located in the initially defined area:\n",
    "\n",
    "- Network type: Public permanent network\n",
    "- Network code: NL (1993) Netherlands Seismic and Acoustic Network\n",
    "- Stations: by Region, bounding box defined in previous step\n",
    "- Streams: by Code, all streams selected\n",
    "\n",
    "After clicking on the \"Search\" button, all stations meeting the above criteria will be added and presented on the map.\n",
    "\n",
    "ℹ️ Please note:\n",
    "\n",
    "- Networks can be filtered using network start and end date\n",
    "- Various network types can be selected using the \"Network Type\" dropdown menu:\n",
    "    - All nets\n",
    "    - Virtual nets\n",
    "    - All permanent nets\n",
    "    - All temporary nets\n",
    "    - All public nets\n",
    "    - All non-public nets\n",
    "    - Public permanent nets\n",
    "    - Public temporary nets\n",
    "    - Non-public permanent nets\n",
    "    - Non-public temporary nets\n",
    "- Stations can be also selected by station code or event distance and azimuth\n",
    "- Streams can be also selected by sampling using target sampling rate and following options:\n",
    "    - Very broad band\n",
    "    - Broad band\n",
    "    - Very broad band and broad band\n",
    "    - Broad band / strong motion\n",
    "    - Short period\n",
    "    - Strong motion\n",
    "    - Ocean bottom seismometer"
   ]
  },
  {
   "cell_type": "markdown",
   "metadata": {},
   "source": [
    "![](img/webdc3-03.png)\n",
    "**Fig.3 - Station search**"
   ]
  },
  {
   "cell_type": "markdown",
   "metadata": {},
   "source": [
    "# Submit request tab (waveforms)\n",
    "\n",
    "Let's now download all waveforms available from selected stations, starting 2 minutes before and ending 10 minutes after event origin time:\n",
    "\n",
    "- Time window selection: Relative Mode\n",
    "- Start: Origin Time: 2\n",
    "- End: Origin Time: 10\n",
    "- Request Type: Waveform (Mini-SEED)\n",
    "\n",
    "ℹ️ Please note:\n",
    "\n",
    "- NL network data is publicly available and does not require authentication.\n",
    "- Start and end time can be set using reference to the event origin time or P/S wave arrival\n",
    "- When no event is selected, waveforms can be downloaded in Absolute Mode by providing explicit start and end timestamps\n",
    "- To download restricted data, user needs to provide an authentication token using EIDA Authentication System ([https://geofon.gfz-potsdam.de/eas/](https://geofon.gfz-potsdam.de/eas/))"
   ]
  },
  {
   "cell_type": "markdown",
   "metadata": {},
   "source": [
    "![](img/webdc3-04.png)\n",
    "**Fig.4 - Waveform request**"
   ]
  },
  {
   "cell_type": "markdown",
   "metadata": {},
   "source": [
    "# Download data tab (waveforms)\n",
    "\n",
    "After clicking the \"Submit\" button, download process will be initiated. When data is downloaded, it can be saved using \"Save\" button to local machine."
   ]
  },
  {
   "cell_type": "markdown",
   "metadata": {},
   "source": [
    "![](img/webdc3-05.png)\n",
    "**Fig.5 - Waveform download progress bar**"
   ]
  },
  {
   "cell_type": "markdown",
   "metadata": {},
   "source": [
    "## Browsing the waveforms using ObsPy\n",
    "\n",
    "Due to repository limitations, this example is based on 1 station (NO.BGAR) extracted from the downloaded package."
   ]
  },
  {
   "cell_type": "code",
   "execution_count": null,
   "metadata": {},
   "outputs": [],
   "source": [
    "from obspy import read\n",
    "\n",
    "# Load example mseed file\n",
    "st = read(\"data/NL.BGAR.mseed\")\n",
    "\n",
    "# Print statistics\n",
    "print(st[0].stats)\n",
    "\n",
    "# Plot the waveform\n",
    "st[0].plot()"
   ]
  },
  {
   "cell_type": "markdown",
   "metadata": {},
   "source": [
    "# Submit request tab (metadata)\n",
    "\n",
    "In previous step we have downloaded the raw waveforms. In order to obtain the instrumentation metadata, we need to go back to the \"Submit request\" tab and adjust our request criteria:\n",
    "\n",
    "- Request Type: Metadata (StationXML)\n",
    "- Metadata level: Channel\n",
    "\n",
    "ℹ️ Please note:\n",
    "\n",
    "- Station metadata can be also requested on 3 different levels:\n",
    "    - Station level\n",
    "    - Channel level\n",
    "    - Response level\n",
    "- Station metadata can be requested in text format"
   ]
  },
  {
   "cell_type": "markdown",
   "metadata": {},
   "source": [
    "![](img/webdc3-06.png)\n",
    "**Fig.6 - Metadata request**"
   ]
  },
  {
   "cell_type": "markdown",
   "metadata": {},
   "source": [
    "# Download data tab (metadata)\n",
    "\n",
    "After clicking the \"Submit\" button, metadata download will be initiated. \"Save\" button will be enabled upon completion of the download process."
   ]
  },
  {
   "cell_type": "markdown",
   "metadata": {},
   "source": [
    "![](img/webdc3-07.png)\n",
    "**Fig.7 - Metadata download progress bar**"
   ]
  },
  {
   "cell_type": "markdown",
   "metadata": {},
   "source": [
    "## Browsing the metadata using ObsPy\n",
    "\n",
    "Due to repository limitations, this example is based on 1 station (NO.BGAR) extracted from the downloaded package."
   ]
  },
  {
   "cell_type": "code",
   "execution_count": null,
   "metadata": {},
   "outputs": [],
   "source": [
    "from obspy import read_inventory\n",
    "\n",
    "# Load example inventory file\n",
    "inv = read_inventory(\"data/NL.BGAR.xml\")\n",
    "\n",
    "# Print its contents\n",
    "print(inv)  "
   ]
  },
  {
   "cell_type": "markdown",
   "metadata": {},
   "source": [
    "ℹ️ Please note that metadata can be easily viewed using a web browser or a text editor:\n",
    "\n",
    "![](img/nl-bgar-sxml.png)\n",
    "**Fig.8 - Metadata viewed in Google Chrome web browser**"
   ]
  },
  {
   "cell_type": "markdown",
   "metadata": {},
   "source": [
    "***\n",
    "Author: Jarek Bienkowski (KNMI)"
   ]
  }
 ],
 "metadata": {
  "kernelspec": {
   "display_name": "Python 3",
   "language": "python",
   "name": "python3"
  },
  "language_info": {
   "codemirror_mode": {
    "name": "ipython",
    "version": 3
   },
   "file_extension": ".py",
   "mimetype": "text/x-python",
   "name": "python",
   "nbconvert_exporter": "python",
   "pygments_lexer": "ipython3",
   "version": "3.7.3"
  }
 },
 "nbformat": 4,
 "nbformat_minor": 4
}
