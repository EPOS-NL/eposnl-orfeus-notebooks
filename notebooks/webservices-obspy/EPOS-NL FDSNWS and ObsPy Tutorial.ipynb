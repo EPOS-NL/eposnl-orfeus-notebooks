{
 "cells": [
  {
   "cell_type": "markdown",
   "metadata": {},
   "source": [
    "## 1 Basic Webservice Usage\n",
    "## 1.1 Introduction\n",
    "EIDA webservices are designed to provide programmatic access to waveform data and instrument metadata from EIDA. Because webservices requests are URLs, it is possible to communicate directly with the webservice APIs in a browser, command-line tools (e.g. curl; wget) or through abstracted clients (e.g. [ObsPy](http://obspy.org), [fdsnws-fetch](https://github.com/andres-h/fdsnws_scripts/blob/master/fdsnws_fetch.py)).\n",
    "\n",
    "Webservices are identified by the service domain (URL) that is data center specific, a label that identifies the service (e.g. dataselect; station) and a list of request options (e.g. stream identifiers or time window) included in its query string. In this initial exercise we will introduce three webservices:\n",
    "\n",
    "* 1.2 FDSNWS-Dataselect - Raw waveform service\n",
    "* 1.3 FDSNWS-Station - Station metadata and instrument specifics\n",
    "* 1.4 EIDAWS-WFCatalog - Waveform metadata\n",
    "\n",
    "In this notebook we will practise direct communication with the webservice APIs in addition to recommended and more convenient workflows using ObsPy."
   ]
  },
  {
   "cell_type": "markdown",
   "metadata": {},
   "source": [
    "## 1.2 FDSNWS-Dataselect\n",
    "### 1.2.1 Interacting with the API\n",
    "The following example makes a request to the FDSNWS-Dataselect API hosted at ORFEUS Data Center (http://orfeus-eu.org). We will request a 10-minute window of miniSEED data from a single station. The data will be read and plotted using ObsPy. Alternatively, we could save the data to disk. The service label for FDSNWS-Dataselect is:\n",
    "\n",
    "> fdsnws/dataselect/1/query"
   ]
  },
  {
   "cell_type": "code",
   "execution_count": null,
   "metadata": {},
   "outputs": [],
   "source": [
    "%matplotlib inline\n",
    "\n",
    "# Import the read module from ObsPy\n",
    "from obspy import read\n",
    "from obspy import UTCDateTime\n",
    "\n",
    "# The URL that points to the dataselect service\n",
    "# The label that identifies the service\n",
    "SERVICE_DOMAIN = \"http://www.orfeus-eu.org\"\n",
    "LABEL = \"fdsnws/dataselect/1/query\"\n",
    "\n",
    "# The 10-minute time window tuple\n",
    "starttime = UTCDateTime(2016, 1, 1, 0, 0, 0)\n",
    "endtime = UTCDateTime(2016, 1, 1, 0, 10, 0)\n",
    "\n",
    "# Get the SEED codes, we will use wildcards for location, channel\n",
    "network, station, location, channel = \"NL\", \"HGN\", \"*\", \"*\"\n",
    "\n",
    "# Create a query string\n",
    "queryString = \"&\".join([\n",
    "    \"network=%s\" % network,\n",
    "    \"station=%s\" % station,\n",
    "    \"location=%s\" % location,\n",
    "    \"channel=%s\" % channel,\n",
    "    \"starttime=%s\" % starttime,\n",
    "    \"endtime=%s\" % endtime\n",
    "])\n",
    "\n",
    "# The URL that we are requesting data from\n",
    "# Try visiting this URL in your browser:\n",
    "# http://www.orfeus-eu.org/fdsnws/dataselect/1/query?network=NL&station=HGN&location=*&channel=*&starttime=2016-01-01T00:00:00&endtime=2016-01-01T00:10:00\n",
    "st = read(\"%s/%s?%s\" % (SERVICE_DOMAIN, LABEL, queryString))\n",
    "\n",
    "# Plot the data returned by the webservice\n",
    "st.plot();"
   ]
  },
  {
   "cell_type": "markdown",
   "metadata": {},
   "source": [
    "### 1.2.2 Waveforms through ObsPy (recommended usage)\n",
    "Alternatively we can use the ObsPy library to communicate with the API through an abstracted client. All we need to do is call an ObsPy function with our time window constraint and SEED identifiers. This function will do all the work of the previous exercise for us internally and make the result available for use within ObsPy.\n",
    "\n",
    "**Note:** Instead of building the URL yourself in the previous exercise, when working with ObsPy it is recommended that the client class is used."
   ]
  },
  {
   "cell_type": "code",
   "execution_count": null,
   "metadata": {
    "scrolled": false
   },
   "outputs": [],
   "source": [
    "# Include the Client class from ObsPy\n",
    "from obspy.clients.fdsn import Client\n",
    "\n",
    "# Create an ObsPy Client that points to ODC (http://www.orfeus-eu.org)\n",
    "client = Client(\"ODC\")\n",
    "\n",
    "# Get the waveforms for the same trace identifiers and time window\n",
    "st = client.get_waveforms(network, station, location, channel, starttime, endtime)\n",
    "\n",
    "# Plot identical result\n",
    "st.plot();"
   ]
  },
  {
   "cell_type": "markdown",
   "metadata": {},
   "source": [
    "## 1.3 FDSNWS-Station\n",
    "### 1.3.1 Interacting with the API\n",
    "The fdsnws-station service works similar to the fdsnws-dataselect but has a service different label (*station* instead of *dataselect*). The response of this webservice is StationXML by default. In the following example we will however request the output formatted as text for clarity. The label for this webservice is:\n",
    "\n",
    "> fdsnws/station/1/query"
   ]
  },
  {
   "cell_type": "code",
   "execution_count": null,
   "metadata": {},
   "outputs": [],
   "source": [
    "# Import a library to make a HTTP request to the webservice\n",
    "import requests\n",
    "\n",
    "# The URL that points to the station service\n",
    "SERVICE_DOMAIN = \"http://www.orfeus-eu.org\"\n",
    "LABEL = \"fdsnws/station/1/query\"\n",
    "\n",
    "# Get the SEED codes for the entire NL network\n",
    "network, station, location, channel = \"NL\", \"*\", \"*\", \"*\"\n",
    "\n",
    "# The query string includes our seed identifiers\n",
    "# and we request output format text\n",
    "queryString = \"&\".join([\n",
    "    \"network=%s\" % network,\n",
    "    \"station=%s\" % station,\n",
    "    \"location=%s\" % location,\n",
    "    \"channel=%s\" % channel,\n",
    "    \"format=text\",\n",
    "    \"level=station\"\n",
    "])\n",
    "\n",
    "# The URL that we are requesing\n",
    "# Try this in your browser:\n",
    "# http://www.orfeus-eu.org/fdsnws/station/1/query?network=NL&station=*&location=*&channel=*&format=text\n",
    "r = requests.get(\"%s/%s?%s\" % (SERVICE_DOMAIN, LABEL, queryString))\n",
    "\n",
    "# This will print station information for all stations in network NL\n",
    "print(r.text)"
   ]
  },
  {
   "cell_type": "markdown",
   "metadata": {},
   "source": [
    "Practically, the data would be requested in StatonXML format and saved to file, to be further used during data processing. In the following exercise we will read the data directly into ObsPy. Note again that when working with ObsPy, using the client class is the best solution."
   ]
  },
  {
   "cell_type": "markdown",
   "metadata": {},
   "source": [
    "### 1.3.2 Station Metadata through ObsPy (recommended usage)\n",
    "Alternatively, we use an ObsPy client to be able to directly manipulate the data in ObsPy. In the following example we request the instrument response for a single channel and print the response information. In combination with the raw waveform data returned from dataselect service we can deconvolve the frequency response for this sensor."
   ]
  },
  {
   "cell_type": "code",
   "execution_count": null,
   "metadata": {},
   "outputs": [],
   "source": [
    "# We will request instrument metadata for a single trace\n",
    "network, station, location, channel = \"NL\", \"HGN\", \"02\", \"BH*\"\n",
    "\n",
    "# We pass level=response to request instrument response metadata\n",
    "inv = client.get_stations(\n",
    "    network=network,\n",
    "    station=station,\n",
    "    location=location,\n",
    "    channel=channel,\n",
    "    level=\"response\"\n",
    ")\n",
    "\n",
    "# This object now has response information for the selected trace (NL.HGN.02.BHZ)\n",
    "for network in inv:\n",
    "    for station in network:\n",
    "        for channel in station:\n",
    "            print(channel.response)\n",
    "\n",
    "# Deconvolve instrument response\n",
    "st.remove_response(inventory=inv)\n",
    "\n",
    "# Plot the data (output units = velocity)\n",
    "st.plot();"
   ]
  },
  {
   "cell_type": "markdown",
   "metadata": {},
   "source": [
    "## 1.4 EIDAWS-WFCatalog\n",
    "The WFCatalog is a catalogue of seismic waveform metadata. This is not to be confused with station metadata but contains purely metadata describing the waveforms. These metadata include availability information (e.g. gaps), sample metrics (e.g. mean, standard deviations, median values) and miniSEED header flags.\n",
    "\n",
    "The EIDAWS-WFCatalog webservice returns quality metrics from raw waveform data. The WFCatalog can serve as a powerful waveform index for data discovery by appending filters (e.g. lt, ge) to the query string. This can help identify waveforms with metric values below or above a certain threshold. The label for this service is:\n",
    "\n",
    "> eidaws/wfcatalog/1/query"
   ]
  },
  {
   "cell_type": "code",
   "execution_count": null,
   "metadata": {},
   "outputs": [],
   "source": [
    "# The URL that points to the routing service (notice the different eidaws label)\n",
    "SERVICE_DOMAIN = \"http://www.orfeus-eu.org\"\n",
    "LABEL = \"eidaws/wfcatalog/1/query\"\n",
    "\n",
    "# The start and end date for the metrics\n",
    "# Feel free to change the window\n",
    "starttime, endtime = (\"2010-11-01\", \"2010-11-07\")\n",
    "\n",
    "# Network codes must be comma delimited\n",
    "network, station, location, channel = \"NL.HGN.02.BHZ\".split(\".\")\n",
    "\n",
    "# The query string includes our seed identifiers, temporal constraints, we ask for sample metrics to be included\n",
    "# include can be either (default, sample, header, all)\n",
    "# We request metrics for daily waveforms with an availability over 50%\n",
    "# Try changing the percent_availability to 100 - less documents will be returned\n",
    "queryString = \"&\".join([\n",
    "    \"network=%s\" % network,\n",
    "    \"station=%s\" % station,\n",
    "    \"location=%s\" % location,\n",
    "    \"channel=%s\" % channel,\n",
    "    \"starttime=%s\" % starttime,\n",
    "    \"endtime=%s\" % endtime,\n",
    "    \"include=sample\",\n",
    "    \"percent_availability_ge=50\"\n",
    "])\n",
    "\n",
    "# Try this in your browser:\n",
    "# http://www.orfeus-eu.org/eidaws/wfcatalog/1/query?network=NL&station=HGN&location=02&channel=BHZ&start=2010-11-01&end=2010-11-07&include=sample\n",
    "r = requests.get(\"%s/%s?%s\" % (SERVICE_DOMAIN, LABEL, queryString))\n",
    "\n",
    "# Should print JSON response of quality metrics for three days.\n",
    "r.json()"
   ]
  },
  {
   "cell_type": "markdown",
   "metadata": {},
   "source": [
    "## Graphical user interfaces\n",
    "The following tools are available on orfeus-eu.org and are built on top of the discussed webservices. Please note that these interfaces currently only work for data archived at ORFEUS Data Center.\n",
    "\n",
    "> http://www.orfeus-eu.org/data/odc/quality"
   ]
  },
  {
   "cell_type": "markdown",
   "metadata": {},
   "source": [
    "# 2 Advanced Example - Webservices pipeline\n",
    "## 2.1 Introduction\n",
    "This example demonstrates the use of FDSN webservices in a processing pipeline. The goal of this exercise is to download raw waveform data from stations surrounding an earthquake. This pipeline is based on functionality provided with ObsPy."
   ]
  },
  {
   "cell_type": "code",
   "execution_count": null,
   "metadata": {},
   "outputs": [],
   "source": [
    "# Define the module imports\n",
    "import requests\n",
    "import math\n",
    "\n",
    "from obspy.taup import TauPyModel\n",
    "from obspy.geodetics import locations2degrees\n",
    "from obspy import read, UTCDateTime\n",
    "\n",
    "import datetime\n",
    "import dateutil.parser"
   ]
  },
  {
   "cell_type": "markdown",
   "metadata": {},
   "source": [
    "## 2.2 FDSNWS-Event\n",
    "\n",
    "We define a function that collects event information from fdsnws-event. We pass an event identifier to the webservice, parse the response and return an Event class that has **location**, **origin time**, and **depth** attributes. The event data is requested from the seismicportal webservice provided by the EMSC."
   ]
  },
  {
   "cell_type": "code",
   "execution_count": null,
   "metadata": {},
   "outputs": [],
   "source": [
    "def getEvent(identifier):\n",
    "\n",
    "    # Try in your browser:\n",
    "    # http://www.seismicportal.eu/fdsnws/event/1/query?eventid=20170720_0000091&format=text\n",
    "    # Service address\n",
    "    FDSN_EVENT = \"http://www.seismicportal.eu/fdsnws/event/1/query\"\n",
    "\n",
    "    # Define class for Events\n",
    "    class Event():\n",
    "        def __init__(self, line):\n",
    "            self.id, self.time, self.latitude, self.longitude, self.depth = line.split(\"|\")[:5]\n",
    "            self.latitude = float(self.latitude)\n",
    "            self.longitude = float(self.longitude)\n",
    "            self.depth = float(self.depth)\n",
    "            \n",
    "    # We query for a single event identifier and request a text format return\n",
    "    queryString = \"&\".join([\n",
    "      \"eventid=%s\" % identifier,\n",
    "      \"format=text\"\n",
    "    ])\n",
    "\n",
    "    # Create the query for an event identifier\n",
    "    r = requests.get(\"%s?%s\" % (FDSN_EVENT, queryString))\n",
    "\n",
    "    # Split by lines and remove head & tail\n",
    "    lines = r.text.split(\"\\n\")[1:-1]\n",
    "\n",
    "    # Return Event classes for each entry\n",
    "    return list(map(Event, lines))[0]"
   ]
  },
  {
   "cell_type": "code",
   "execution_count": null,
   "metadata": {},
   "outputs": [],
   "source": [
    "# Should print a single Event instance\n",
    "print(getEvent(\"20170720_0000091\"))"
   ]
  },
  {
   "cell_type": "markdown",
   "metadata": {},
   "source": [
    "## 2.3 FDSNWS-Station\n",
    "\n",
    "Define a function that can find the stations around an event. We pass the Event instance to the function and call the station webservice to return stations within 20 degrees arc-distance of this event location. We parse the response and return a map of station instances with attributes network, station, and location."
   ]
  },
  {
   "cell_type": "code",
   "execution_count": null,
   "metadata": {},
   "outputs": [],
   "source": [
    "def getStations(event):\n",
    "\n",
    "    # Try it in your browser:\n",
    "    # http://orfeus-eu.org/fdsnws/station/1/query?latitude=30&longitude=30&maxradius=20&format=text\n",
    "    # Service address\n",
    "    FDSN_STATION = \"http://orfeus-eu.org/fdsnws/station/1/query\"\n",
    "    MAX_RADIUS = 20\n",
    "\n",
    "    # Define a Station class\n",
    "    class Station():\n",
    "        def __init__(self, line):\n",
    "            self.network, self.station, self.latitude, self.longitude = line.split(\"|\")[:4]\n",
    "            self.latitude = float(self.latitude)\n",
    "            self.longitude = float(self.longitude)\n",
    "\n",
    "    # We query with the event location and a maximum radius around the event\n",
    "    queryString = \"&\".join([\n",
    "      \"latitude=%s\" % event.latitude,\n",
    "      \"longitude=%s\" % event.longitude,\n",
    "      \"maxradius=%s\" % MAX_RADIUS,\n",
    "      \"format=text\"\n",
    "    ])\n",
    "\n",
    "    # Request from webservice\n",
    "    r = requests.get(\"%s?%s\" % (FDSN_STATION, queryString))\n",
    "\n",
    "    # Split by lines and remove head & tail\n",
    "    lines = r.text.split(\"\\n\")[1:-1]\n",
    "\n",
    "    # Return Event classes for each entry\n",
    "    return map(Station, lines)"
   ]
  },
  {
   "cell_type": "code",
   "execution_count": null,
   "metadata": {},
   "outputs": [],
   "source": [
    "# Should print a map (array) of Station instances\n",
    "print(getStations(getEvent(\"20170720_0000091\")))"
   ]
  },
  {
   "cell_type": "markdown",
   "metadata": {},
   "source": [
    "## 2.4 Theoretical Arrival Times\n",
    "\n",
    "Define a function that calculates the theoretical P arrival time at a station location using the TauP module in ObsPy. The function takes an Event and Station instance. The arc-distance in degrees between the source and receiver is calculated using the *haversine function* (see below)."
   ]
  },
  {
   "cell_type": "code",
   "execution_count": null,
   "metadata": {},
   "outputs": [],
   "source": [
    "# We use the iasp91 reference model\n",
    "TAUP_MODEL = TauPyModel(model=\"iasp91\")\n",
    "\n",
    "def getPArrival(event, station):\n",
    "\n",
    "    # Determine the arc distance using the haversine formula\n",
    "    arcDistanceDegrees = locations2degrees(\n",
    "      event.latitude,\n",
    "      station.latitude,\n",
    "      event.longitude,\n",
    "      station.longitude\n",
    "    )\n",
    "\n",
    "    # Calculate the theoretical P-arrival time\n",
    "    arrivals = TAUP_MODEL.get_travel_times(\n",
    "      source_depth_in_km=1E-3 * event.depth,\n",
    "      distance_in_degree=arcDistanceDegrees,\n",
    "      phase_list=[\"P\"]\n",
    "    )\n",
    "\n",
    "    # Add the theorical P-arrival delta to the event time\n",
    "    return UTCDateTime(event.time) + arrivals[0].time"
   ]
  },
  {
   "cell_type": "markdown",
   "metadata": {},
   "source": [
    "Definition of the havesine function, we pass two latitudes and longitudes and return the arc-distance in degrees. This is a supplementary function."
   ]
  },
  {
   "cell_type": "markdown",
   "metadata": {},
   "source": [
    "## 2.5 FDSNWS-Dataselect\n",
    "\n",
    "The main body of the script that collects an event with event identifier 20170720_0000091. We loop over all the stations returned by the getStations function within 20 degrees arc-distance of the event. In each iteration, we make a call to fdsnws-dataselect to collect the waveform data for all stations between 300 seconds before, and 1200 seconds after the theoretical P-arrival time.\n",
    "\n",
    "This data (channel BH?) is loaded in to ObsPy using the read function, filtered and plotted. After the first iteration the loop is broken. Alternatively, all data can be saved to disk.\n"
   ]
  },
  {
   "cell_type": "code",
   "execution_count": null,
   "metadata": {},
   "outputs": [],
   "source": [
    "FDSN_DATASELECT = \"http://orfeus-eu.org/fdsnws/dataselect/1/query\"\n",
    "EVENT_IDENTIFIER = \"20170720_0000091\"\n",
    "\n",
    "# Get the event\n",
    "event = getEvent(EVENT_IDENTIFIER)\n",
    "\n",
    "# Go over all stations returned in the radius\n",
    "for station in getStations(event):\n",
    "\n",
    "    # Get the theoretical (TauP) pArrval from event to station\n",
    "    stationArrivalTime = getPArrival(event, station)\n",
    "\n",
    "    # Create the query for fdsn-dataselect\n",
    "    # between 300 seconds before & 1200 seconds after the theoretical P-arrival\n",
    "    queryString = \"&\".join([\n",
    "        \"network=%s\" % station.network,\n",
    "        \"station=%s\" % station.station,\n",
    "        \"starttime=%s\" % (stationArrivalTime - 300).isoformat(),\n",
    "        \"endtime=%s\" % (stationArrivalTime + 1200).isoformat(),\n",
    "        \"channel=BH?\"\n",
    "    ])\n",
    "\n",
    "    # Get the waveform data and read to ObsPy Stream\n",
    "    # Empty responses are skipped \n",
    "    try:\n",
    "        st = read(\"%s?%s\" % (FDSN_DATASELECT, queryString))\n",
    "    except Exception:\n",
    "        continue\n",
    "\n",
    "    # Use with ObsPy and apply a filter, then plot\n",
    "    # Alternatively, we would save the data to a file\n",
    "    st.filter(\"lowpass\", freq=0.5)\n",
    "    st.plot()\n",
    "\n",
    "    # Break after the first result\n",
    "    break"
   ]
  },
  {
   "cell_type": "markdown",
   "metadata": {},
   "source": [
    "***\n",
    "Authors: Mathijs Koymans (KNMI), Jarek Bienkowski (KNMI)"
   ]
  }
 ],
 "metadata": {
  "kernelspec": {
   "display_name": "Python 3",
   "language": "python",
   "name": "python3"
  },
  "language_info": {
   "codemirror_mode": {
    "name": "ipython",
    "version": 3
   },
   "file_extension": ".py",
   "mimetype": "text/x-python",
   "name": "python",
   "nbconvert_exporter": "python",
   "pygments_lexer": "ipython3",
   "version": "3.7.3"
  }
 },
 "nbformat": 4,
 "nbformat_minor": 2
}
